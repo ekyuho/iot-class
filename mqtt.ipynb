{
 "cells": [
  {
   "cell_type": "code",
   "execution_count": null,
   "id": "7114a3b3-b5d1-4b85-a111-19c81cc4731d",
   "metadata": {},
   "outputs": [],
   "source": [
    "!pip install paho.mqtt"
   ]
  },
  {
   "cell_type": "code",
   "execution_count": 7,
   "id": "0ed2ad72-97c2-478e-aa0a-54fb4dab4744",
   "metadata": {},
   "outputs": [
    {
     "data": {
      "text/plain": [
       "<paho.mqtt.client.MQTTMessageInfo at 0x2709982c1d0>"
      ]
     },
     "execution_count": 7,
     "metadata": {},
     "output_type": "execute_result"
    }
   ],
   "source": [
    "import paho.mqtt.client as mqtt\n",
    "\n",
    "broker_address=\"mqttserver-address\" \n",
    "client = mqtt.Client()\n",
    "client.connect(broker_address)\n",
    "client.publish(\"attend\",'{\"stu-no\":\"2012345\",\"stu-name\":\"김규호\"}')"
   ]
  },
  {
   "cell_type": "code",
   "execution_count": null,
   "id": "2a6cdde5-d73c-4141-b4fb-801d49b75eec",
   "metadata": {},
   "outputs": [],
   "source": []
  },
  {
   "cell_type": "code",
   "execution_count": 8,
   "id": "7070bac8-10ca-4201-a8d8-5ff171d97839",
   "metadata": {},
   "outputs": [
    {
     "name": "stdout",
     "output_type": "stream",
     "text": [
      "received message = bbbcccddd\n",
      "received message = bbbcccddd\n",
      "received message = bbbcccddd\n"
     ]
    }
   ],
   "source": [
    "import paho.mqtt.client as mqtt\n",
    "\n",
    "broker_address=\"mqttserver-address\" \n",
    "def on_message(client, userdata, message):\n",
    "    print(\"received message =\",str(message.payload.decode(\"utf-8\")))\n",
    "\n",
    "client = mqtt.Client()\n",
    "client.on_message=on_message\n",
    "client.connect(broker_address)\n",
    "client.subscribe(\"attend\")\n",
    "client.loop_start()"
   ]
  },
  {
   "cell_type": "code",
   "execution_count": null,
   "id": "b87bcea8-a28b-404f-b2c3-c47bb2f54bcf",
   "metadata": {},
   "outputs": [],
   "source": []
  }
 ],
 "metadata": {
  "kernelspec": {
   "display_name": "Python 3 (ipykernel)",
   "language": "python",
   "name": "python3"
  },
  "language_info": {
   "codemirror_mode": {
    "name": "ipython",
    "version": 3
   },
   "file_extension": ".py",
   "mimetype": "text/x-python",
   "name": "python",
   "nbconvert_exporter": "python",
   "pygments_lexer": "ipython3",
   "version": "3.9.7"
  }
 },
 "nbformat": 4,
 "nbformat_minor": 5
}
