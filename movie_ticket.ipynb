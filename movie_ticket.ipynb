{
  "nbformat": 4,
  "nbformat_minor": 0,
  "metadata": {
    "colab": {
      "provenance": [],
      "authorship_tag": "ABX9TyNk50rCotoZCXGnZuLZtUSx",
      "include_colab_link": true
    },
    "kernelspec": {
      "name": "python3",
      "display_name": "Python 3"
    },
    "language_info": {
      "name": "python"
    }
  },
  "cells": [
    {
      "cell_type": "markdown",
      "metadata": {
        "id": "view-in-github",
        "colab_type": "text"
      },
      "source": [
        "<a href=\"https://colab.research.google.com/github/ekyuho/iot-class/blob/main/movie_ticket.ipynb\" target=\"_parent\"><img src=\"https://colab.research.google.com/assets/colab-badge.svg\" alt=\"Open In Colab\"/></a>"
      ]
    },
    {
      "cell_type": "code",
      "execution_count": null,
      "metadata": {
        "id": "jWa-CkhcVIbE"
      },
      "outputs": [],
      "source": [
        "import requests\n",
        "from bs4 import BeautifulSoup\n",
        "\n",
        "r = requests.get('https://www.kobis.or.kr/kobisopenapi/webservice/rest/boxoffice/searchWeeklyBoxOfficeList.xml?key=4c8d418737edcf694dc93641ece5f620&targetDt=20240306&weekGb=0&itemPerPage=10')\n",
        "print(r.text)"
      ]
    },
    {
      "cell_type": "code",
      "source": [
        "soup = BeautifulSoup(r.text, features=\"xml\")"
      ],
      "metadata": {
        "id": "DJE9eaf6V6fU"
      },
      "execution_count": 2,
      "outputs": []
    },
    {
      "cell_type": "code",
      "source": [
        "soup.find_all('movieNm')"
      ],
      "metadata": {
        "id": "zhcEeC7-V-fd",
        "outputId": "685b4e00-8879-4c57-ced6-512bd739faad",
        "colab": {
          "base_uri": "https://localhost:8080/"
        }
      },
      "execution_count": 3,
      "outputs": [
        {
          "output_type": "execute_result",
          "data": {
            "text/plain": [
              "[<movieNm>파묘</movieNm>,\n",
              " <movieNm>듄: 파트2</movieNm>,\n",
              " <movieNm>웡카</movieNm>,\n",
              " <movieNm>가여운 것들</movieNm>,\n",
              " <movieNm>패스트 라이브즈</movieNm>,\n",
              " <movieNm>건국전쟁</movieNm>,\n",
              " <movieNm>브레드이발소: 셀럽 인 베이커리타운</movieNm>,\n",
              " <movieNm>귀멸의 칼날: 인연의 기적, 그리고 합동 강화 훈련으로</movieNm>,\n",
              " <movieNm>아이엠 티라노</movieNm>,\n",
              " <movieNm>소풍</movieNm>]"
            ]
          },
          "metadata": {},
          "execution_count": 3
        }
      ]
    },
    {
      "cell_type": "code",
      "source": [
        "soup.find_all('audiCnt')"
      ],
      "metadata": {
        "id": "XTdwmRxGWVXj",
        "outputId": "4aa85761-5289-440b-8f29-07f5fdf6de86",
        "colab": {
          "base_uri": "https://localhost:8080/"
        }
      },
      "execution_count": 4,
      "outputs": [
        {
          "output_type": "execute_result",
          "data": {
            "text/plain": [
              "[<audiCnt>2008776</audiCnt>,\n",
              " <audiCnt>461891</audiCnt>,\n",
              " <audiCnt>108918</audiCnt>,\n",
              " <audiCnt>60091</audiCnt>,\n",
              " <audiCnt>49246</audiCnt>,\n",
              " <audiCnt>48363</audiCnt>,\n",
              " <audiCnt>42417</audiCnt>,\n",
              " <audiCnt>21562</audiCnt>,\n",
              " <audiCnt>9521</audiCnt>,\n",
              " <audiCnt>9340</audiCnt>]"
            ]
          },
          "metadata": {},
          "execution_count": 4
        }
      ]
    },
    {
      "cell_type": "code",
      "source": [],
      "metadata": {
        "id": "rghJdYEwWbTU"
      },
      "execution_count": null,
      "outputs": []
    }
  ]
}