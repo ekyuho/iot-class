{
  "nbformat": 4,
  "nbformat_minor": 0,
  "metadata": {
    "colab": {
      "provenance": [],
      "authorship_tag": "ABX9TyPE2RN5uBbhGJ3UBgssc7ph",
      "include_colab_link": true
    },
    "kernelspec": {
      "name": "python3",
      "display_name": "Python 3"
    },
    "language_info": {
      "name": "python"
    }
  },
  "cells": [
    {
      "cell_type": "markdown",
      "metadata": {
        "id": "view-in-github",
        "colab_type": "text"
      },
      "source": [
        "<a href=\"https://colab.research.google.com/github/ekyuho/iot-class/blob/main/movie_ticket.ipynb\" target=\"_parent\"><img src=\"https://colab.research.google.com/assets/colab-badge.svg\" alt=\"Open In Colab\"/></a>"
      ]
    },
    {
      "cell_type": "code",
      "execution_count": null,
      "metadata": {
        "id": "jWa-CkhcVIbE"
      },
      "outputs": [],
      "source": [
        "import requests\n",
        "r = requests.get('https://www.weather.go.kr/w/rss/dfs/hr1-forecast.do?zone=1141058500')\n",
        "print(r.text)\n",
        "\n",
        "\n"
      ]
    }
  ]
}