{
  "nbformat": 4,
  "nbformat_minor": 0,
  "metadata": {
    "colab": {
      "provenance": [],
      "authorship_tag": "ABX9TyM4N7Vm58Zm1Pc2gEDGcOS4",
      "include_colab_link": true
    },
    "kernelspec": {
      "name": "python3",
      "display_name": "Python 3"
    },
    "language_info": {
      "name": "python"
    }
  },
  "cells": [
    {
      "cell_type": "markdown",
      "metadata": {
        "id": "view-in-github",
        "colab_type": "text"
      },
      "source": [
        "<a href=\"https://colab.research.google.com/github/ekyuho/iot-class/blob/main/tcp.ipynb\" target=\"_parent\"><img src=\"https://colab.research.google.com/assets/colab-badge.svg\" alt=\"Open In Colab\"/></a>"
      ]
    },
    {
      "cell_type": "code",
      "execution_count": 15,
      "metadata": {
        "colab": {
          "base_uri": "https://localhost:8080/"
        },
        "id": "tGRRR9Ky_LdA",
        "outputId": "6b03c22f-778e-4d12-d1ba-6e1d5d65dd26"
      },
      "outputs": [
        {
          "output_type": "stream",
          "name": "stdout",
          "text": [
            "<H1>이것은 나의 스토리다</H1>\n",
            "\n",
            "내가 <b>분당</b>에서 신촌으로 오기위해서는 다음의 과정을 거친다\n",
            "\n",
            "<ol>\n",
            "\n",
            "<li>9000번 버스를 탄다\n",
            "\n",
            "<li>조계사에서 내려서, 안국역으로 조금 걷는다.\n",
            "\n",
            "<li>272번을 탄다\n",
            "\n",
            "</ol>\n",
            "\n",
            "시간이 제법 걸려서, 9000번 버스에서는 주로 잠을 자게된다.\n",
            "\n",
            "<p>\n",
            "\n",
            "낮 시간에는 문제가 없는데, \n",
            "\n",
            "저녁시간에는 버스안의 \n",
            "\n",
            "<br>\n",
            "\n",
            "등이 너무 밝아서 <font color=red>눈을 감아도</font> 눈이 부시는 문제가 있다.\n",
            "\n",
            "<p>\n",
            "\n",
            "해결 방법이 없을까..\n",
            "\n",
            "<ul>\n",
            "\n",
            "<li>9000번을 타지 않는다\n",
            "\n",
            "<li>버스 앞자리는 어두우니 앞에 탄다\n",
            "\n",
            "<li>승용차를 탄다\n",
            "\n",
            "</ul>\n",
            "\n",
            "<font color=blue>154753 김규호</font>\n",
            "\n"
          ]
        }
      ],
      "source": [
        "import requests\n",
        "\n",
        "URL='http://damoa.io/0311.html'\n",
        "r = requests.get(URL)\n",
        "print(r.text)\n",
        "\n"
      ]
    },
    {
      "cell_type": "code",
      "source": [
        "import socket\n",
        "\n",
        "HOST = \"damoa.io\"\n",
        "PORT = 80\n",
        "\n",
        "cmd=b\"GET /0311.html HTTP/1.1\\r\\n\" \\\n",
        "    b\"User-Agent: Kyuho\\r\\n\" \\\n",
        "    b\"Host: damoa.io\\r\\n\" \\\n",
        "    b\"Connection: close\\r\\n\" \\\n",
        "    b\"\\r\\n\"\n",
        "\n",
        "with socket.socket(socket.AF_INET, socket.SOCK_STREAM) as s:\n",
        "    s.connect((HOST, PORT))\n",
        "    s.sendall(cmd)\n",
        "\n",
        "    data = s.recv(1024)\n",
        "\n",
        "print(f\"Received {data.decode('utf-8')}\")"
      ],
      "metadata": {
        "colab": {
          "base_uri": "https://localhost:8080/"
        },
        "id": "fdF3FbWXCR68",
        "outputId": "2e4a316d-b200-49a2-bb68-2968752eb7a4"
      },
      "execution_count": 16,
      "outputs": [
        {
          "output_type": "stream",
          "name": "stdout",
          "text": [
            "Received HTTP/1.1 200 OK\r\n",
            "X-Powered-By: Express\r\n",
            "Accept-Ranges: bytes\r\n",
            "Cache-Control: public, max-age=0\r\n",
            "Last-Modified: Mon, 10 Mar 2025 17:28:58 GMT\r\n",
            "ETag: W/\"2d6-195811a4827\"\r\n",
            "Content-Type: text/html; charset=UTF-8\r\n",
            "Content-Length: 726\r\n",
            "Date: Mon, 31 Mar 2025 16:30:28 GMT\r\n",
            "Connection: close\r\n",
            "\r\n",
            "<H1>이것은 나의 스토리다</H1>\n",
            "\n",
            "내가 <b>분당</b>에서 신촌으로 오기위해서는 다음의 과정을 거친다\n",
            "\n",
            "<ol>\n",
            "\n",
            "<li>9000번 버스를 탄다\n",
            "\n",
            "<li>조계사에서 내려서, 안국역으로 조금 걷는다.\n",
            "\n",
            "<li>272번을 탄다\n",
            "\n",
            "</ol>\n",
            "\n",
            "시간이 제법 걸려서, 9000번 버스에서는 주로 잠을 자게된다.\n",
            "\n",
            "<p>\n",
            "\n",
            "낮 시간에는 문제가 없는데, \n",
            "\n",
            "저녁시간에는 버스안의 \n",
            "\n",
            "<br>\n",
            "\n",
            "등이 너무 밝아서 <font color=red>눈을 감아도</font> 눈이 부시는 문제가 있다.\n",
            "\n",
            "<p>\n",
            "\n",
            "해결 방법이 없을까..\n",
            "\n",
            "<ul>\n",
            "\n",
            "<li>9000번을 타지 않는다\n",
            "\n",
            "<li>버스 앞자리는 어두우니 앞에 탄다\n",
            "\n",
            "<li>승용차를 탄다\n",
            "\n",
            "</ul>\n",
            "\n",
            "<font color=blue>154753 김규호</font>\n",
            "\n"
          ]
        }
      ]
    },
    {
      "cell_type": "code",
      "source": [],
      "metadata": {
        "id": "JKWO1N6C_rWA"
      },
      "execution_count": null,
      "outputs": []
    }
  ]
}