{
  "nbformat": 4,
  "nbformat_minor": 0,
  "metadata": {
    "colab": {
      "provenance": [],
      "authorship_tag": "ABX9TyPXd1Af76xr6EPboNNEtxhf",
      "include_colab_link": true
    },
    "kernelspec": {
      "name": "python3",
      "display_name": "Python 3"
    },
    "language_info": {
      "name": "python"
    }
  },
  "cells": [
    {
      "cell_type": "markdown",
      "metadata": {
        "id": "view-in-github",
        "colab_type": "text"
      },
      "source": [
        "<a href=\"https://colab.research.google.com/github/ekyuho/iot-class/blob/main/random_thingspeak.ipynb\" target=\"_parent\"><img src=\"https://colab.research.google.com/assets/colab-badge.svg\" alt=\"Open In Colab\"/></a>"
      ]
    },
    {
      "cell_type": "code",
      "execution_count": 3,
      "metadata": {
        "colab": {
          "base_uri": "https://localhost:8080/"
        },
        "id": "tGrrOYizG3yY",
        "outputId": "cbb49c83-e45b-487b-c7c0-39b9de334500"
      },
      "outputs": [
        {
          "output_type": "stream",
          "name": "stdout",
          "text": [
            "0\n",
            "6\n",
            "7\n",
            "8\n",
            "9\n",
            "10\n"
          ]
        }
      ],
      "source": [
        "import requests\n",
        "import time\n",
        "\n",
        "a=[45,13,89,44,22,100]\n",
        "for x in a:\n",
        "  r=requests.get('https://api.thingspeak.com/update?api_key=HZ0A78WQNG8K3M0Z&field1='+ str(x))\n",
        "  print(r.text)\n",
        "  time.sleep(20)"
      ]
    },
    {
      "cell_type": "code",
      "source": [
        "import random\n",
        "\n",
        "for i in range(5):\n",
        "  v=random.randint(0,100)\n",
        "  r=requests.get('https://api.thingspeak.com/update?api_key=HZ0A78WQNG8K3M0Z&field1='+ str(v))\n",
        "  print(r.text, v)\n",
        "  time.sleep(20)"
      ],
      "metadata": {
        "colab": {
          "base_uri": "https://localhost:8080/"
        },
        "id": "yPS_bRDeInjJ",
        "outputId": "5a26e775-54c1-4310-b389-37995c0b34ad"
      },
      "execution_count": 4,
      "outputs": [
        {
          "output_type": "stream",
          "name": "stdout",
          "text": [
            "11\n",
            "12\n",
            "13\n",
            "14\n",
            "15\n"
          ]
        }
      ]
    }
  ]
}