{
  "nbformat": 4,
  "nbformat_minor": 0,
  "metadata": {
    "colab": {
      "provenance": [],
      "authorship_tag": "ABX9TyON+tEk1n4zMR0o3CFJ29l9",
      "include_colab_link": true
    },
    "kernelspec": {
      "name": "python3",
      "display_name": "Python 3"
    },
    "language_info": {
      "name": "python"
    }
  },
  "cells": [
    {
      "cell_type": "markdown",
      "metadata": {
        "id": "view-in-github",
        "colab_type": "text"
      },
      "source": [
        "<a href=\"https://colab.research.google.com/github/ekyuho/iot-class/blob/main/read_bus.ipynb\" target=\"_parent\"><img src=\"https://colab.research.google.com/assets/colab-badge.svg\" alt=\"Open In Colab\"/></a>"
      ]
    },
    {
      "cell_type": "code",
      "execution_count": 2,
      "metadata": {
        "id": "11x5B7xkQPmN",
        "outputId": "82527731-1ae3-4689-f58a-9db025b7071f",
        "colab": {
          "base_uri": "https://localhost:8080/"
        }
      },
      "outputs": [
        {
          "output_type": "stream",
          "name": "stdout",
          "text": [
            "<?xml version=\"1.0\" encoding=\"UTF-8\" standalone=\"yes\"?><response><comMsgHeader/><msgHeader><queryTime>2024-03-14 17:04:18.473</queryTime><resultCode>0</resultCode><resultMessage>정상적으로 처리되었습니다.</resultMessage></msgHeader><msgBody><busLocationList><endBus>0</endBus><lowPlate>0</lowPlate><plateNo>경기77바3758</plateNo><plateType>3</plateType><remainSeatCnt>21</remainSeatCnt><routeId>234000002</routeId><stationId>277103390</stationId><stationSeq>28</stationSeq></busLocationList><busLocationList><endBus>0</endBus><lowPlate>0</lowPlate><plateNo>경기77바1056</plateNo><plateType>3</plateType><remainSeatCnt>13</remainSeatCnt><routeId>234000002</routeId><stationId>277103387</stationId><stationSeq>53</stationSeq></busLocationList><busLocationList><endBus>0</endBus><lowPlate>0</lowPlate><plateNo>경기77바3564</plateNo><plateType>3</plateType><remainSeatCnt>20</remainSeatCnt><routeId>234000002</routeId><stationId>206000530</stationId><stationSeq>20</stationSeq></busLocationList><busLocationList><endBus>0</endBus><lowPlate>0</lowPlate><plateNo>경기77바3760</plateNo><plateType>3</plateType><remainSeatCnt>44</remainSeatCnt><routeId>234000002</routeId><stationId>206000333</stationId><stationSeq>3</stationSeq></busLocationList><busLocationList><endBus>0</endBus><lowPlate>0</lowPlate><plateNo>경기77바3565</plateNo><plateType>3</plateType><remainSeatCnt>34</remainSeatCnt><routeId>234000002</routeId><stationId>101000128</stationId><stationSeq>40</stationSeq></busLocationList><busLocationList><endBus>0</endBus><lowPlate>0</lowPlate><plateNo>경기77바3759</plateNo><plateType>3</plateType><remainSeatCnt>33</remainSeatCnt><routeId>234000002</routeId><stationId>101000148</stationId><stationSeq>45</stationSeq></busLocationList><busLocationList><endBus>0</endBus><lowPlate>0</lowPlate><plateNo>경기77바3563</plateNo><plateType>3</plateType><remainSeatCnt>44</remainSeatCnt><routeId>234000002</routeId><stationId>206000178</stationId><stationSeq>73</stationSeq></busLocationList><busLocationList><endBus>0</endBus><lowPlate>0</lowPlate><plateNo>경기77바3748</plateNo><plateType>3</plateType><remainSeatCnt>41</remainSeatCnt><routeId>234000002</routeId><stationId>206000322</stationId><stationSeq>13</stationSeq></busLocationList><busLocationList><endBus>0</endBus><lowPlate>0</lowPlate><plateNo>경기77바1114</plateNo><plateType>3</plateType><remainSeatCnt>38</remainSeatCnt><routeId>234000002</routeId><stationId>101000002</stationId><stationSeq>34</stationSeq></busLocationList><busLocationList><endBus>0</endBus><lowPlate>0</lowPlate><plateNo>경기77바1228</plateNo><plateType>3</plateType><remainSeatCnt>4</remainSeatCnt><routeId>234000002</routeId><stationId>277104179</stationId><stationSeq>48</stationSeq></busLocationList><busLocationList><endBus>0</endBus><lowPlate>0</lowPlate><plateNo>경기77바3754</plateNo><plateType>3</plateType><remainSeatCnt>32</remainSeatCnt><routeId>234000002</routeId><stationId>206000185</stationId><stationSeq>65</stationSeq></busLocationList></msgBody></response>\n"
          ]
        }
      ],
      "source": [
        "import requests\n",
        "#url='http://apis.data.go.kr/6410000/buslocationservice/getBusLocationList?serviceKey=1234567890&routeId=234000003'\n",
        "url='http://openapi.gbis.go.kr/ws/rest/buslocationservice?serviceKey=1234567890&routeId=234000002'\n",
        "r = requests.get(url)\n",
        "print(r.text)\n"
      ]
    },
    {
      "cell_type": "code",
      "source": [
        "from bs4 import BeautifulSoup\n",
        "\n",
        "soup = BeautifulSoup(r.text, features=\"xml\")"
      ],
      "metadata": {
        "id": "hW7PWVFYP-Ey"
      },
      "execution_count": 3,
      "outputs": []
    },
    {
      "cell_type": "code",
      "source": [
        "soup.find_all('stationId')"
      ],
      "metadata": {
        "id": "RQf5g4DjPma0",
        "outputId": "54098618-88cf-4282-b231-fa76630d93fb",
        "colab": {
          "base_uri": "https://localhost:8080/"
        }
      },
      "execution_count": null,
      "outputs": [
        {
          "output_type": "execute_result",
          "data": {
            "text/plain": [
              "[<stationId>222000024</stationId>,\n",
              " <stationId>222001319</stationId>,\n",
              " <stationId>277104248</stationId>,\n",
              " <stationId>222000188</stationId>]"
            ]
          },
          "metadata": {},
          "execution_count": 11
        }
      ]
    },
    {
      "cell_type": "code",
      "source": [],
      "metadata": {
        "id": "607VKsR9Qd9D"
      },
      "execution_count": null,
      "outputs": []
    }
  ]
}