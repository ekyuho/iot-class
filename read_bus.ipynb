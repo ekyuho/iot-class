{
  "nbformat": 4,
  "nbformat_minor": 0,
  "metadata": {
    "colab": {
      "provenance": [],
      "authorship_tag": "ABX9TyOCXM+aclNSZba01I8eoFgy",
      "include_colab_link": true
    },
    "kernelspec": {
      "name": "python3",
      "display_name": "Python 3"
    },
    "language_info": {
      "name": "python"
    }
  },
  "cells": [
    {
      "cell_type": "markdown",
      "metadata": {
        "id": "view-in-github",
        "colab_type": "text"
      },
      "source": [
        "<a href=\"https://colab.research.google.com/github/ekyuho/iot-class/blob/main/read_bus.ipynb\" target=\"_parent\"><img src=\"https://colab.research.google.com/assets/colab-badge.svg\" alt=\"Open In Colab\"/></a>"
      ]
    },
    {
      "cell_type": "code",
      "execution_count": 18,
      "metadata": {
        "id": "11x5B7xkQPmN",
        "outputId": "47bece66-e0e9-4199-b0c2-a84a65c1c36c",
        "colab": {
          "base_uri": "https://localhost:8080/"
        }
      },
      "outputs": [
        {
          "output_type": "stream",
          "name": "stdout",
          "text": [
            "<?xml version=\"1.0\" encoding=\"UTF-8\" standalone=\"yes\"?><response><comMsgHeader/><msgHeader><queryTime>2024-03-14 17:19:25.005</queryTime><resultCode>0</resultCode><resultMessage>정상적으로 처리되었습니다.</resultMessage></msgHeader><msgBody><busLocationList><endBus>0</endBus><lowPlate>0</lowPlate><plateNo>경기77바1583</plateNo><plateType>3</plateType><remainSeatCnt>-1</remainSeatCnt><routeId>234000003</routeId><stationId>222000193</stationId><stationSeq>23</stationSeq></busLocationList><busLocationList><endBus>0</endBus><lowPlate>0</lowPlate><plateNo>경기77바3396</plateNo><plateType>3</plateType><remainSeatCnt>-1</remainSeatCnt><routeId>234000003</routeId><stationId>222000338</stationId><stationSeq>100</stationSeq></busLocationList><busLocationList><endBus>0</endBus><lowPlate>0</lowPlate><plateNo>경기77바1448</plateNo><plateType>3</plateType><remainSeatCnt>-1</remainSeatCnt><routeId>234000003</routeId><stationId>105000010</stationId><stationSeq>82</stationSeq></busLocationList><busLocationList><endBus>0</endBus><lowPlate>0</lowPlate><plateNo>경기77바1519</plateNo><plateType>3</plateType><remainSeatCnt>-1</remainSeatCnt><routeId>234000003</routeId><stationId>222000199</stationId><stationSeq>122</stationSeq></busLocationList><busLocationList><endBus>0</endBus><lowPlate>0</lowPlate><plateNo>경기77바1735</plateNo><plateType>3</plateType><remainSeatCnt>-1</remainSeatCnt><routeId>234000003</routeId><stationId>106000433</stationId><stationSeq>64</stationSeq></busLocationList></msgBody></response>\n"
          ]
        }
      ],
      "source": [
        "import requests\n",
        "url='http://apis.data.go.kr/6410000/buslocationservice/getBusLocationList?serviceKey=NX27TU912%2Fk4aFeGKJQINXcHGyNZshD62H2jo4IFcYfIbkpKf%2B4XR3yX6t7YMzVjmlg0gzJyTTKR2K1YN5cLpw%3D%3D&routeId=234000003'\n",
        "#url='http://openapi.gbis.go.kr/ws/rest/buslocationservice?serviceKey=1234567890&routeId=234000002'\n",
        "r = requests.get(url)\n",
        "print(r.text)\n"
      ]
    },
    {
      "cell_type": "code",
      "source": [
        "from bs4 import BeautifulSoup\n",
        "\n",
        "soup = BeautifulSoup(r.text, features=\"xml\")"
      ],
      "metadata": {
        "id": "hW7PWVFYP-Ey"
      },
      "execution_count": 5,
      "outputs": []
    },
    {
      "cell_type": "code",
      "source": [
        "soup.find_all('stationId')"
      ],
      "metadata": {
        "id": "RQf5g4DjPma0",
        "outputId": "87384d40-136b-4da4-e96a-2879e152718c",
        "colab": {
          "base_uri": "https://localhost:8080/"
        }
      },
      "execution_count": 6,
      "outputs": [
        {
          "output_type": "execute_result",
          "data": {
            "text/plain": [
              "[<stationId>222000724</stationId>,\n",
              " <stationId>105000030</stationId>,\n",
              " <stationId>222000150</stationId>,\n",
              " <stationId>222001309</stationId>,\n",
              " <stationId>221000245</stationId>]"
            ]
          },
          "metadata": {},
          "execution_count": 6
        }
      ]
    },
    {
      "cell_type": "code",
      "source": [],
      "metadata": {
        "id": "607VKsR9Qd9D"
      },
      "execution_count": null,
      "outputs": []
    }
  ]
}