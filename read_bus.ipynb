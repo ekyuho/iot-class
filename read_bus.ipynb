{
  "nbformat": 4,
  "nbformat_minor": 0,
  "metadata": {
    "colab": {
      "provenance": [],
      "authorship_tag": "ABX9TyOQ9x/JiT2QzZDCtWW5vc9l",
      "include_colab_link": true
    },
    "kernelspec": {
      "name": "python3",
      "display_name": "Python 3"
    },
    "language_info": {
      "name": "python"
    }
  },
  "cells": [
    {
      "cell_type": "markdown",
      "metadata": {
        "id": "view-in-github",
        "colab_type": "text"
      },
      "source": [
        "<a href=\"https://colab.research.google.com/github/ekyuho/iot-class/blob/main/read_bus.ipynb\" target=\"_parent\"><img src=\"https://colab.research.google.com/assets/colab-badge.svg\" alt=\"Open In Colab\"/></a>"
      ]
    },
    {
      "cell_type": "code",
      "execution_count": 1,
      "metadata": {
        "id": "11x5B7xkQPmN",
        "outputId": "66914576-7bf0-415e-ec62-21840f2fd43e",
        "colab": {
          "base_uri": "https://localhost:8080/"
        }
      },
      "outputs": [
        {
          "output_type": "stream",
          "name": "stdout",
          "text": [
            "<?xml version=\"1.0\" encoding=\"UTF-8\" standalone=\"yes\"?><response><comMsgHeader/><msgHeader><queryTime>2024-03-13 23:37:18.976</queryTime><resultCode>0</resultCode><resultMessage>정상적으로 처리되었습니다.</resultMessage></msgHeader><msgBody><busLocationList><endBus>0</endBus><lowPlate>0</lowPlate><plateNo>경기77바3366</plateNo><plateType>3</plateType><remainSeatCnt>-1</remainSeatCnt><routeId>234000003</routeId><stationId>222000024</stationId><stationSeq>146</stationSeq></busLocationList><busLocationList><endBus>0</endBus><lowPlate>0</lowPlate><plateNo>경기77바1946</plateNo><plateType>3</plateType><remainSeatCnt>-1</remainSeatCnt><routeId>234000003</routeId><stationId>222001319</stationId><stationSeq>55</stationSeq></busLocationList><busLocationList><endBus>0</endBus><lowPlate>0</lowPlate><plateNo>경기77바1519</plateNo><plateType>3</plateType><remainSeatCnt>-1</remainSeatCnt><routeId>234000003</routeId><stationId>277104248</stationId><stationSeq>95</stationSeq></busLocationList><busLocationList><endBus>0</endBus><lowPlate>0</lowPlate><plateNo>경기77바1735</plateNo><plateType>3</plateType><remainSeatCnt>-1</remainSeatCnt><routeId>234000003</routeId><stationId>222000188</stationId><stationSeq>29</stationSeq></busLocationList></msgBody></response>\n"
          ]
        }
      ],
      "source": [
        "import requests\n",
        "url='http://apis.data.go.kr/6410000/buslocationservice/getBusLocationList?serviceKey=1234567890&routeId=234000003'\n",
        "r = requests.get(url)\n",
        "print(r.text)\n",
        ""
      ]
    },
    {
      "cell_type": "code",
      "source": [
        "from bs4 import BeautifulSoup\n",
        "\n",
        "soup = BeautifulSoup(r.text, features=\"xml\")"
      ],
      "metadata": {
        "id": "hW7PWVFYP-Ey"
      },
      "execution_count": 8,
      "outputs": []
    },
    {
      "cell_type": "code",
      "source": [
        "soup.find_all('stationId')"
      ],
      "metadata": {
        "id": "RQf5g4DjPma0",
        "outputId": "54098618-88cf-4282-b231-fa76630d93fb",
        "colab": {
          "base_uri": "https://localhost:8080/"
        }
      },
      "execution_count": 11,
      "outputs": [
        {
          "output_type": "execute_result",
          "data": {
            "text/plain": [
              "[<stationId>222000024</stationId>,\n",
              " <stationId>222001319</stationId>,\n",
              " <stationId>277104248</stationId>,\n",
              " <stationId>222000188</stationId>]"
            ]
          },
          "metadata": {},
          "execution_count": 11
        }
      ]
    },
    {
      "cell_type": "code",
      "source": [],
      "metadata": {
        "id": "607VKsR9Qd9D"
      },
      "execution_count": null,
      "outputs": []
    }
  ]
}