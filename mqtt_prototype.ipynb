{
  "nbformat": 4,
  "nbformat_minor": 0,
  "metadata": {
    "colab": {
      "provenance": [],
      "authorship_tag": "ABX9TyNd336yDx+3jliqy6JF73nk",
      "include_colab_link": true
    },
    "kernelspec": {
      "name": "python3",
      "display_name": "Python 3"
    },
    "language_info": {
      "name": "python"
    }
  },
  "cells": [
    {
      "cell_type": "markdown",
      "metadata": {
        "id": "view-in-github",
        "colab_type": "text"
      },
      "source": [
        "<a href=\"https://colab.research.google.com/github/ekyuho/iot-class/blob/main/mqtt_prototype.ipynb\" target=\"_parent\"><img src=\"https://colab.research.google.com/assets/colab-badge.svg\" alt=\"Open In Colab\"/></a>"
      ]
    },
    {
      "cell_type": "code",
      "source": [
        "!pip install paho-mqtt"
      ],
      "metadata": {
        "id": "_Qt6P5eYMkz6"
      },
      "execution_count": null,
      "outputs": []
    },
    {
      "cell_type": "code",
      "source": [
        "# 이부분은 mqtt listener로서 별도의 colab에서 실행시킨다\n",
        "import paho.mqtt.client as mqtt\n",
        "\n",
        "def on_connect(client, userdata, flags, reason_code, properties):\n",
        "    print(f\"Connected with result code {reason_code}\")\n",
        "    client.subscribe(\"connectware/indoor/data/#\")\n",
        "\n",
        "def on_message(client, userdata, msg):\n",
        "    print(msg.topic, msg.payload.decode('utf8'))\n",
        "\n",
        "client = mqtt.Client(mqtt.CallbackAPIVersion.VERSION2)\n",
        "client.on_connect = on_connect\n",
        "client.on_message = on_message\n",
        "\n",
        "client.connect(\"damoa.io\", 1883, 60)\n",
        "client.loop_forever()\n"
      ],
      "metadata": {
        "id": "hCRAn3F9JNM_"
      },
      "execution_count": null,
      "outputs": []
    },
    {
      "cell_type": "code",
      "source": [],
      "metadata": {
        "id": "4bb1cR6yJQTp"
      },
      "execution_count": null,
      "outputs": []
    },
    {
      "cell_type": "code",
      "source": [
        "# 이부분은 별도의 colab으로 실행시키도록 하고, 특정 topic에 대해 메시지를 전송한다.\n",
        "import paho.mqtt.client as mqtt\n",
        "\n",
        "broker_address=\"mqttserver-address\"\n",
        "client = mqtt.Client()\n",
        "client.connect(broker_address)\n",
        "client.publish(\"attend\",'{\"stu-no\":\"2012345\",\"stu-name\":\"김규호\"}')"
      ],
      "metadata": {
        "id": "nPxJn8nVFVOo"
      },
      "execution_count": null,
      "outputs": []
    }
  ]
}