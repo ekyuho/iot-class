{
  "nbformat": 4,
  "nbformat_minor": 0,
  "metadata": {
    "colab": {
      "provenance": [],
      "authorship_tag": "ABX9TyOeCzUttaAjsRqxt2HjQpHV",
      "include_colab_link": true
    },
    "kernelspec": {
      "name": "python3",
      "display_name": "Python 3"
    },
    "language_info": {
      "name": "python"
    }
  },
  "cells": [
    {
      "cell_type": "markdown",
      "metadata": {
        "id": "view-in-github",
        "colab_type": "text"
      },
      "source": [
        "<a href=\"https://colab.research.google.com/github/ekyuho/iot-class/blob/main/reqeusts_weather_rss_graph.ipynb\" target=\"_parent\"><img src=\"https://colab.research.google.com/assets/colab-badge.svg\" alt=\"Open In Colab\"/></a>"
      ]
    },
    {
      "cell_type": "code",
      "execution_count": 1,
      "metadata": {
        "id": "M85-i7iTphIO"
      },
      "outputs": [],
      "source": [
        "import requests\n",
        "r = requests.get('https://www.weather.go.kr/w/rss/dfs/hr1-forecast.do?zone=1141058500')"
      ]
    },
    {
      "cell_type": "code",
      "source": [
        "print(r.text)"
      ],
      "metadata": {
        "id": "BK1CgsNizRXb"
      },
      "execution_count": null,
      "outputs": []
    },
    {
      "cell_type": "code",
      "source": [
        "lines=r.text.split('\\n')"
      ],
      "metadata": {
        "id": "I7gW8rcYqBA6"
      },
      "execution_count": 3,
      "outputs": []
    },
    {
      "cell_type": "code",
      "source": [
        "temp=[]\n",
        "import re\n",
        "for line in lines:\n",
        "  if re.search('temp', line):\n",
        "    print(line.replace('<temp>','').replace('</temp>',''))\n",
        "    temp.append(float(line.replace('<temp>','').replace('</temp>','')))"
      ],
      "metadata": {
        "id": "4ODFriJDzncD",
        "outputId": "7d33227d-5eb8-4a1a-e9ad-74c171b1221b",
        "colab": {
          "base_uri": "https://localhost:8080/"
        }
      },
      "execution_count": 12,
      "outputs": [
        {
          "output_type": "stream",
          "name": "stdout",
          "text": [
            "3.0\n",
            "3.0\n",
            "2.0\n",
            "2.0\n",
            "1.0\n",
            "1.0\n",
            "1.0\n",
            "1.0\n",
            "1.0\n",
            "1.0\n",
            "2.0\n",
            "4.0\n",
            "5.0\n",
            "7.0\n",
            "9.0\n",
            "9.0\n",
            "10.0\n",
            "10.0\n",
            "10.0\n",
            "10.0\n",
            "9.0\n",
            "7.0\n",
            "6.0\n",
            "5.0\n",
            "5.0\n",
            "6.0\n",
            "5.0\n",
            "5.0\n",
            "5.0\n",
            "5.0\n",
            "5.0\n",
            "5.0\n",
            "5.0\n",
            "5.0\n",
            "6.0\n",
            "8.0\n",
            "10.0\n",
            "12.0\n",
            "14.0\n",
            "15.0\n",
            "16.0\n",
            "17.0\n",
            "16.0\n",
            "15.0\n",
            "13.0\n",
            "12.0\n",
            "11.0\n",
            "11.0\n",
            "12.0\n",
            "12.0\n",
            "12.0\n",
            "11.0\n",
            "11.0\n",
            "10.0\n",
            "10.0\n",
            "9.0\n",
            "9.0\n",
            "9.0\n",
            "10.0\n",
            "10.0\n",
            "11.0\n",
            "13.0\n",
            "14.0\n",
            "16.0\n",
            "17.0\n",
            "17.0\n",
            "17.0\n",
            "17.0\n",
            "16.0\n",
            "14.0\n",
            "13.0\n",
            "12.0\n",
            "12.0\n",
            "11.0\n",
            "11.0\n",
            "10.0\n",
            "9.0\n",
            "8.0\n",
            "8.0\n",
            "8.0\n",
            "7.0\n",
            "8.0\n",
            "9.0\n",
            "11.0\n",
            "14.0\n",
            "16.0\n",
            "18.0\n",
            "19.0\n",
            "20.0\n",
            "21.0\n",
            "20.0\n",
            "20.0\n",
            "19.0\n",
            "17.0\n",
            "15.0\n",
            "14.0\n",
            "13.0\n",
            "12.0\n",
            "11.0\n"
          ]
        }
      ]
    },
    {
      "cell_type": "code",
      "source": [
        "temp"
      ],
      "metadata": {
        "id": "CLBv0yhAzofS"
      },
      "execution_count": null,
      "outputs": []
    },
    {
      "cell_type": "code",
      "source": [
        "import matplotlib.pyplot as plt\n",
        "fig, ax=plt.subplots()\n",
        "ax.plot(temp)"
      ],
      "metadata": {
        "id": "Te_bwJoV0gBp",
        "outputId": "9b721573-6e9f-4647-8354-bd95a3b1d529",
        "colab": {
          "base_uri": "https://localhost:8080/",
          "height": 448
        }
      },
      "execution_count": 15,
      "outputs": [
        {
          "output_type": "execute_result",
          "data": {
            "text/plain": [
              "[<matplotlib.lines.Line2D at 0x79e65d0f8eb0>]"
            ]
          },
          "metadata": {},
          "execution_count": 15
        },
        {
          "output_type": "display_data",
          "data": {
            "text/plain": [
              "<Figure size 640x480 with 1 Axes>"
            ],
            "image/png": "[encoded data removed]"
          },
          "metadata": {}
        }
      ]
    },
    {
      "cell_type": "code",
      "source": [],
      "metadata": {
        "id": "pzOxOyow0weY"
      },
      "execution_count": null,
      "outputs": []
    }
  ]
}